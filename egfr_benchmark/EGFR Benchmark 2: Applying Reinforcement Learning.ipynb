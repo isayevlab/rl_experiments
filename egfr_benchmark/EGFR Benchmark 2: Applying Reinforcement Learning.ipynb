{
 "cells": [
  {
   "cell_type": "markdown",
   "id": "00546d94",
   "metadata": {},
   "source": [
    "# Write a config file for gridsearch"
   ]
  },
  {
   "cell_type": "code",
   "execution_count": null,
   "id": "65560025",
   "metadata": {},
   "outputs": [],
   "source": [
    "config = '''{\n",
    "        'n_policy': 15,\n",
    "        'n_policy_replay': 10,\n",
    "        'n_fine_tune': [0, 10],\n",
    "        'seed': 42\n",
    "}'''\n",
    "with open('../data/sample_config.txt', 'wt') as f:\n",
    "    f.write(config)"
   ]
  },
  {
   "cell_type": "markdown",
   "id": "52c4b7ba",
   "metadata": {},
   "source": [
    "# Run optimization experiments"
   ]
  },
  {
   "cell_type": "code",
   "execution_count": null,
   "id": "1133d277",
   "metadata": {},
   "outputs": [],
   "source": [
    "from datetime import datetime\n",
    "\n",
    "files = ['n_fine_tune', \n",
    "         'n_iterations',\n",
    "         'primed_model',\n",
    "         'replay_combo',\n",
    "         'replay_data'\n",
    "         'replay_ratio'\n",
    "         'replay_ratio_mixed']\n",
    "for f in files:\n",
    "    config = '../config/%s.txt' % f\n",
    "    print('Using config from', config)\n",
    "    savename = f + datetime.strftime(datetime.now(), '%y%m%d')\n",
    "    savepath = '../logs/%s' % (savename, savename)\n",
    "    print('Saving to: ', savepath)\n",
    "    !mkdir -r savepath\n",
    "    !python -m gridsearch egfr_demo $config $savepath   "
   ]
  }
 ],
 "metadata": {
  "kernelspec": {
   "display_name": "Python 3 (ipykernel)",
   "language": "python",
   "name": "python3"
  },
  "language_info": {
   "codemirror_mode": {
    "name": "ipython",
    "version": 3
   },
   "file_extension": ".py",
   "mimetype": "text/x-python",
   "name": "python",
   "nbconvert_exporter": "python",
   "pygments_lexer": "ipython3",
   "version": "3.8.10"
  }
 },
 "nbformat": 4,
 "nbformat_minor": 5
}

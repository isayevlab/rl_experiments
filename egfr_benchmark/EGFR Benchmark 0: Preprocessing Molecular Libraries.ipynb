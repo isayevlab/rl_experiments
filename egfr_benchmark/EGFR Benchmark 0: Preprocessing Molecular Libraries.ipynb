{
 "cells": [
  {
   "cell_type": "code",
   "execution_count": null,
   "id": "6b6c46e7",
   "metadata": {},
   "outputs": [],
   "source": [
    "import sys\n",
    "sys.path.append('../release')"
   ]
  },
  {
   "cell_type": "code",
   "execution_count": null,
   "id": "e35f7bbe",
   "metadata": {},
   "outputs": [],
   "source": [
    "import pandas as pd\n",
    "import numpy as np\n",
    "\n",
    "from rdkit.Chem import PandasTools\n",
    "PandasTools.RenderImagesInAllDataFrames(images=True)\n",
    "import rdkit.Chem as Chem\n",
    "from rdkit import DataStructs\n",
    "\n",
    "from predictor import VanillaQSAR\n",
    "from utils import get_fp\n",
    "from sklearn.ensemble import RandomForestClassifier as RFC"
   ]
  },
  {
   "cell_type": "code",
   "execution_count": null,
   "id": "e7bcb2e5",
   "metadata": {},
   "outputs": [],
   "source": [
    "exp_data = pd.read_csv('../data/egfr_with_pubchem.csv')\n",
    "exp_data['molecules'] = exp_data.smiles.apply(Chem.MolFromSmiles)\n",
    "exp_actives = exp_data.copy()[exp_data.predictions > 0.75]"
   ]
  },
  {
   "cell_type": "markdown",
   "id": "7ad1fc2b",
   "metadata": {},
   "source": [
    "# Selecting promising molecules from a general kinase library"
   ]
  },
  {
   "cell_type": "code",
   "execution_count": null,
   "id": "74123a36",
   "metadata": {},
   "outputs": [],
   "source": [
    "model_instance = RFC\n",
    "model_params = {'n_estimators': 250,\n",
    "                'n_jobs': 10}\n",
    "my_predictor = VanillaQSAR(model_instance=model_instance,\n",
    "                           model_params=model_params,\n",
    "                           ensemble_size=10)\n",
    "my_predictor.load_model('../checkpoints/predictor/egfr_rfc')"
   ]
  },
  {
   "cell_type": "code",
   "execution_count": null,
   "id": "9c165d7a",
   "metadata": {},
   "outputs": [],
   "source": [
    "!unzip ../data/Enamine_Kinase_Library_plated.zip"
   ]
  },
  {
   "cell_type": "code",
   "execution_count": null,
   "id": "7d187d2e",
   "metadata": {},
   "outputs": [],
   "source": [
    "kin_lib = Chem.SDMolSupplier('../data/Enamine_Kinase_Library_plated_64000cmds_20200524.sdf')\n",
    "print(len(kin_lib))"
   ]
  },
  {
   "cell_type": "code",
   "execution_count": null,
   "id": "e33f2b72",
   "metadata": {},
   "outputs": [],
   "source": [
    "kin_lib = pd.DataFrame({'molecules': kin_lib})\n",
    "kin_lib['smiles'] = kin_lib.molecules.apply(Chem.MolToSmiles)\n",
    "mols, props, nan_smiles = my_predictor.predict(kin_libs.smiles, get_features=get_fp)\n",
    "mapper = dict(zip(mols, props))\n",
    "kin_lib['predictions'] = kin_lib.smiles.apply(mapper.get)"
   ]
  },
  {
   "cell_type": "code",
   "execution_count": null,
   "id": "9a4f9aa1",
   "metadata": {},
   "outputs": [],
   "source": [
    "# draw some molecules with nonzero predicted activity\n",
    "sample = kin_lib[kin_lib.predictions > 0].sample(25)\n",
    "sample"
   ]
  },
  {
   "cell_type": "code",
   "execution_count": null,
   "id": "01791302",
   "metadata": {},
   "outputs": [],
   "source": [
    "labels = sample.predictions.apply('{:.3f}'.format)\n",
    "Chem.Draw.MolsToGridImage(sample.molecules, legends=labels)"
   ]
  },
  {
   "cell_type": "markdown",
   "id": "4e597206",
   "metadata": {},
   "source": [
    "## Filter for fused ring motif"
   ]
  },
  {
   "cell_type": "code",
   "execution_count": null,
   "id": "fa5a7207",
   "metadata": {},
   "outputs": [],
   "source": [
    "substruct = Chem.MolFromSmarts('a(:a)(:a)(:a)')\n",
    "kin_lib['is_fused'] = kin_lib.molecules.apply(lambda m: m.HasSubstructMatch(substruct))\n",
    "fused_lib = kin_lib[kin_lib.is_fused]\n",
    "print(len(fused_lib))"
   ]
  },
  {
   "cell_type": "code",
   "execution_count": null,
   "id": "53547088",
   "metadata": {},
   "outputs": [],
   "source": [
    "sample = fused_lib.sample(25)\n",
    "Chem.Draw.MolsToGridImage(sample.molecules, molsPerRow=5)"
   ]
  },
  {
   "cell_type": "markdown",
   "id": "642abf4b",
   "metadata": {},
   "source": [
    "## Analyze properties of molecules with fused ring"
   ]
  },
  {
   "cell_type": "code",
   "execution_count": null,
   "id": "8032cf94",
   "metadata": {},
   "outputs": [],
   "source": [
    "from analysis_utils import _plot_similarities\n",
    "_plot_similarities(fused_lib.mols, from_smiles=False, sample_size=1000, bins=50)"
   ]
  },
  {
   "cell_type": "code",
   "execution_count": null,
   "id": "a1624c49",
   "metadata": {},
   "outputs": [],
   "source": [
    "# number of predicted active molecules so low as to be negligible\n",
    "sum(fused_lib.predictions > 0)"
   ]
  },
  {
   "cell_type": "code",
   "execution_count": null,
   "id": "b4b04dbc",
   "metadata": {},
   "outputs": [],
   "source": [
    "from analysis_utils import compare_libraries\n",
    "shared_scaffolds = compare_libraries(fused_lib, exp_actives, sample_size=1000, bins=50,\n",
    "                                     properties=['MolWt', 'MolLogP'], return_shared_scaffolds=True,\n",
    "                                     plot=False)"
   ]
  },
  {
   "cell_type": "code",
   "execution_count": null,
   "id": "0ba621d1",
   "metadata": {},
   "outputs": [],
   "source": [
    "shared_scaffolds"
   ]
  },
  {
   "cell_type": "markdown",
   "id": "61a8e551",
   "metadata": {},
   "source": [
    "# Select molecules with novel scaffolds"
   ]
  },
  {
   "cell_type": "code",
   "execution_count": null,
   "id": "2d304281",
   "metadata": {},
   "outputs": [],
   "source": [
    "from rdkit.Chem.Scaffolds.MurckoScaffold import MurckoScaffoldSmiles\n",
    "fused_lib['novel_scaffold'] = fused_lib.molecules.apply(lambda m: MurckoScaffoldSmiles(mol=m) not in shared_scaffolds)\n",
    "fused_lib_novel = fused_lib[fused_lib.novel_scaffold]"
   ]
  },
  {
   "cell_type": "code",
   "execution_count": null,
   "id": "1604b200",
   "metadata": {},
   "outputs": [],
   "source": [
    "fused_lib_novel[['smiles', 'predictions']].to_csv('../data/Enamine_Kinase_Library_filtered.smi', header=False, index=False)"
   ]
  },
  {
   "cell_type": "code",
   "execution_count": null,
   "id": "4c98dc16",
   "metadata": {},
   "outputs": [],
   "source": [
    "# remove salts to enable tokenization\n",
    "fused_lib_novel.replace(to_replace='\\,\\[K\\+]', value='', regex=True, inplace=True)\n",
    "fused_lib_novel = fused_lib_novel[fused_lib_novel.predictions > 0]\n",
    "fused_lib_novel[['smiles', 'predictions']].to_csv('../data/egfr_enamine.smi',\n",
    "                                                  header=False, index=False)\n"
   ]
  }
 ],
 "metadata": {
  "kernelspec": {
   "display_name": "Python 3 (ipykernel)",
   "language": "python",
   "name": "python3"
  },
  "language_info": {
   "codemirror_mode": {
    "name": "ipython",
    "version": 3
   },
   "file_extension": ".py",
   "mimetype": "text/x-python",
   "name": "python",
   "nbconvert_exporter": "python",
   "pygments_lexer": "ipython3",
   "version": "3.8.10"
  }
 },
 "nbformat": 4,
 "nbformat_minor": 5
}

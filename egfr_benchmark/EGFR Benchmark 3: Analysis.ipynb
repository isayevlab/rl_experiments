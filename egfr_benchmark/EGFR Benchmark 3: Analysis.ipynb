{
 "cells": [
  {
   "cell_type": "code",
   "execution_count": null,
   "id": "e4469d9d",
   "metadata": {},
   "outputs": [],
   "source": [
    "import os\n",
    "import sys\n",
    "sys.path.append('../release')"
   ]
  },
  {
   "cell_type": "code",
   "execution_count": null,
   "id": "10f8359a",
   "metadata": {},
   "outputs": [],
   "source": [
    "import numpy as np\n",
    "import pandas as pd\n",
    "import matplotlib.pyplot as plt\n",
    "from glob import glob\n",
    "from collections import defaultdict\n",
    "import rdkit.Chem as Chem\n",
    "from rdkit.Chem import Descriptors\n",
    "from sklearn.ensemble import RandomForestClassifier as RFC"
   ]
  },
  {
   "cell_type": "code",
   "execution_count": null,
   "id": "c813480d",
   "metadata": {},
   "outputs": [],
   "source": [
    "from analysis_utils import LogMiner, get_fingerprint_similarities, get_property, plot_scaffolds"
   ]
  },
  {
   "cell_type": "code",
   "execution_count": null,
   "id": "adaf228c",
   "metadata": {},
   "outputs": [],
   "source": [
    "log_dir = '../logs/'"
   ]
  },
  {
   "cell_type": "markdown",
   "id": "5a4483c3",
   "metadata": {},
   "source": [
    "# Generate barchart with summary metrics"
   ]
  },
  {
   "cell_type": "code",
   "execution_count": null,
   "id": "daf1359a",
   "metadata": {},
   "outputs": [],
   "source": [
    "# extract data from logs\n",
    "name = 'replay_combo'\n",
    "dates = (201111, 201112, 201113)\n",
    "\n",
    "for date in dates:\n",
    "    log_path = os.path.join(log_dir, name + str(date) + '.log')\n",
    "    lms.append(LogMiner(log_path, 3))  # smooth data with a moving average of 3\n",
    "results = pd.concat([lm.results().iloc[[6,7,3,4]] for lm in lms])\n",
    "results['params'] = results.params.apply(lambda d: tuple(d.items()))\n",
    "results = results.groupby('params')"
   ]
  },
  {
   "cell_type": "code",
   "execution_count": null,
   "id": "c6570c24",
   "metadata": {},
   "outputs": [],
   "source": [
    "# plot barchart\n",
    "cmap = plt.get_cmap('coolwarm')\n",
    "colors = cmap([192, 64])\n",
    "width = 0.3\n",
    "x = np.arange(len(results))\n",
    "plt.figure(dpi=300)\n",
    "ax1 = plt.axes()\n",
    "for i, field in enumerate(('active_fraction', 'valid_fraction')):\n",
    "    label = field.replace('_', ' ')\n",
    "    label = label[:1].upper() + label[1:]\n",
    "    ax1.bar(x + (i-0.5)*width, results.mean()[field].iloc[[2,3,0,1]], width,\n",
    "            yerr=results.sem()[field].iloc[[2,3,0,1]], label=label, capsize=3, color=colors[i])\n",
    "    plt.legend()\n",
    "    plt.xlim(-0.5, len(results) - 0.5)\n",
    "    plt.ylabel('Active / Valid fraction')\n",
    "\n",
    "rows = ['', 'Fine-tune', 'Replay']\n",
    "cell_text = [[' ', ' ', ' ', ' '],\n",
    "             ['\\u2212', '+', '\\u2212', '+'],\n",
    "             ['\\u2212', '\\u2212', '+', '+']]\n",
    "plt.table(cellText=cell_text,\n",
    "          rowLabels=rows,\n",
    "          rowLoc='right',\n",
    "          cellLoc='center',\n",
    "          edges='R',\n",
    "          loc='bottom')\n",
    "plt.xticks([])\n",
    "plt.show()"
   ]
  },
  {
   "cell_type": "markdown",
   "id": "babdbfce",
   "metadata": {},
   "source": [
    "# Plot most important fields over training"
   ]
  },
  {
   "cell_type": "code",
   "execution_count": null,
   "id": "6f588917",
   "metadata": {},
   "outputs": [],
   "source": [
    "# extract run data\n",
    "name = 'replay_ratio'\n",
    "dates = (201212, 201213, 201214)\n",
    "\n",
    "for date in dates:\n",
    "    log_path = os.path.join(log_dir, name + str(date) + '.log')\n",
    "    lms.append(LogMiner(log_path, 3))"
   ]
  },
  {
   "cell_type": "code",
   "execution_count": null,
   "id": "316c3588",
   "metadata": {},
   "outputs": [],
   "source": [
    "# collate run data by parameter\n",
    "tot_runs = defaultdict(list)\n",
    "for lm in lms:\n",
    "    for run in lm.runs():\n",
    "        # add data for epoch 0\n",
    "        run.data = pd.concat((run.data.iloc[0:1], run.data))\n",
    "        run.data['actives_fine_tune'].iloc[0] = run.data.actives_policy.iloc[0]\n",
    "        run.data['valids_fine_tune'].iloc[0] = run.data.valids_policy.iloc[0]\n",
    "        run.data['epoch'].iloc[0] = 0\n",
    "        params = tuple(run.params.items())\n",
    "        tot_runs[params].append(run)"
   ]
  },
  {
   "cell_type": "code",
   "execution_count": null,
   "id": "55b1dd8d",
   "metadata": {},
   "outputs": [],
   "source": [
    "# plot metrics over training\n",
    "n = len(tot_runs)\n",
    "cmap = plt.get_cmap('winter', n)\n",
    "colors = cmap(range(n))\n",
    "fig, axes = plt.figure(figsize=(4, 4), sharex=True)\n",
    "axes = axes.flatten()\n",
    "labels = []\n",
    "for i, (params, runs) in enumerate(tot_runs.items()):\n",
    "    params = dict(params)\n",
    "    label = '%d / %d' % (params['n_policy'], params['n_policy_replay'])\n",
    "    labels.append(label)\n",
    "    results = (pd.concat([run.data for run in runs])\n",
    "              .groupby('epoch'))\n",
    "    epochs = list(results.groups)\n",
    "    for j, field in enumerate(('actives_fine_tune',\n",
    "                               'valids_fine_tune',\n",
    "                               'thresholds',\n",
    "                               'rewards')):\n",
    "        axes[j].errorbar(epochs, results[field].mean(), yerr=results[field].sem(),\n",
    "                         colors=colors[i], elinewidth=0.1, capsize=0.2)\n",
    "        upper = results[field].mean() + results[field].sem()\n",
    "        lower = results[field].mean() - results[field].sem()\n",
    "        axes[j].fill_between(epochs, lower, upper, colors[i], alpha=0.1)\n",
    "\n",
    "for ax, field in zip(axes, ('Active fraction',\n",
    "                            'Valid fraction',\n",
    "                            'Replay threshold',\n",
    "                            'Rewards')):\n",
    "    ax.set_title(field)\n",
    "\n",
    "axes[2].set_xlabel('Epoch')\n",
    "axes[2].set_ybound(lower=-0.05)\n",
    "axes[3].set_xlabel('Epoch')\n",
    "axes[3].set_ybound(lower=-0.5)\n",
    "# invisible plot to add colorbar\n",
    "data = axes[3].scatter([2]*n, [0]*n, s=0, c=np.arange(n), cmap=cmap)\n",
    "data.set_clim(0, n)\n",
    "cbar = plt.colorbar(data, ax=axes, location='bottom', pad=0.2)\n",
    "cbar.set_ticks(np.arange(n) + 0.5)\n",
    "cbar.ax.set_xticklabels(labels)\n",
    "plt.show()"
   ]
  },
  {
   "cell_type": "code",
   "execution_count": null,
   "id": "16e4a2db",
   "metadata": {},
   "outputs": [],
   "source": [
    "# plot trajectory of active and valid fractions over training\n",
    "n = len(tot_runs)\n",
    "cmap = plt.get_cmap('winter', n)\n",
    "colors = cmap(range(n))\n",
    "plt.figure(figsize=(4,4))\n",
    "for i, (params, runs) in enumerate(tot_runs.items()):\n",
    "    params = dict(params)\n",
    "    label = '%d / %d' % (params['n_policy'], params['n_policy_replay'])\n",
    "    labels.append(label)\n",
    "    for j, run in enumerate(runs):\n",
    "        x = run.data['actives_fine_tune']\n",
    "        y = run.data['valids_fine_tune']\n",
    "        plt.plot(x, y, '.-', alpha=0.25, color=colors[i])\n",
    "        plt.scatter(x.iloc[-1], y.iloc[-1], color=colors[i], zorder=4)\n",
    "plt.xlabel('Active fraction')\n",
    "plt.ylabel('Valid fraction')\n",
    "plt.title('Valid fraction versus Active fraction')\n",
    "data = plt.scatter([0.5]*n, [0.5]*n, s=0, c=np.arange(n), cmap=cmap)\n",
    "data.set_clim(0, n)\n",
    "cbar = plt.colorbar(data, location='bottom', pad=0.2)\n",
    "cbar.set_ticks(np.arange(n) + 0.5)\n",
    "cbar.ax.set_xticklabels(labels)\n",
    "plt.show()"
   ]
  },
  {
   "cell_type": "markdown",
   "id": "eca93617",
   "metadata": {},
   "source": [
    "# Plot library distributions"
   ]
  },
  {
   "cell_type": "code",
   "execution_count": null,
   "id": "cab52599",
   "metadata": {},
   "outputs": [],
   "source": [
    "# violinplot with option to pass colormaps\n",
    "def violinplot(dataset, c=None, cmap=None, **kwargs):\n",
    "    n = len(dataset)\n",
    "    if c is not None:\n",
    "        c = plt.get_cmap(cmap, n)(c)\n",
    "    \n",
    "    plot = plt.violinplot(dataset, **kwargs)\n",
    "    for key in ('cmins', 'cmaxes', 'cbars'):\n",
    "        plot[key].set_linewidth(0.5)\n",
    "    for val in plot.values():\n",
    "        if isinstance(val, list):\n",
    "            for i in range(n):\n",
    "                val[i].set_color(c[i])\n",
    "        else:\n",
    "            val.set_array(np.linspace(0,1,n))\n",
    "            val.set_cmap(cmap)\n",
    "    return plot"
   ]
  },
  {
   "cell_type": "markdown",
   "id": "4cb3d716",
   "metadata": {},
   "source": [
    "### Plot predicted activity distribution of timelapse data"
   ]
  },
  {
   "cell_type": "code",
   "execution_count": null,
   "id": "f1e6c09e",
   "metadata": {},
   "outputs": [],
   "source": [
    "name = 'timelapse201106'\n",
    "\n",
    "log_path = os.path.join(log_dir, name)\n",
    "n = len(glob(log_path + '*.smi'))\n",
    "libs = []\n",
    "for i in range(n):\n",
    "    tmp = pd.read_csv(log_path + '-%d.smi' % (2*i), names=['smiles', 'predictions'])\n",
    "    tmp['molecules'] = tmp.smiles.apply(Chem.MolFromSmiles)\n",
    "    libs.append(tmp)\n",
    "mols = [lib.molecules for lib in libs]"
   ]
  },
  {
   "cell_type": "code",
   "execution_count": null,
   "id": "36f7fa31",
   "metadata": {},
   "outputs": [],
   "source": [
    "t = 2 * np.arange(n)\n",
    "cmap = plt.get_cmap('cool', n)\n",
    "colors = cmap(range(n))\n",
    "fig, ax = plt.subplots(figsize=9, 4.5)\n",
    "predictions = [lib.predictions for lib in libs]\n",
    "means = np.array(p.mean() for p in predictions)\n",
    "violinplot(predictions, c=np.arange(n), cmap='cool',\n",
    "           positions=t, widths=2, bw_method=0.1)\n",
    "plt.plot(t, means, 'b-')\n",
    "plt.xlabel('Epochs trained')\n",
    "plt.xticks([0,4,8,12,16,20])\n",
    "plt.ylabel('Predicted activity')\n",
    "plt.title('Distribution of predicted activities over training')\n",
    "plt.show()"
   ]
  },
  {
   "cell_type": "markdown",
   "id": "b84ccfc3",
   "metadata": {},
   "source": [
    "### Plot distribution of similarities of generated libraries relative to experimental actives"
   ]
  },
  {
   "cell_type": "code",
   "execution_count": null,
   "id": "52211e91",
   "metadata": {},
   "outputs": [],
   "source": [
    "# load generated libraries\n",
    "name = 'replay_data201104'\n",
    "\n",
    "log_path = log_dir + name\n",
    "n_runs = len(glob(log_path + '*.smi'))\n",
    "n = n_runs - 1\n",
    "conditions = ['Empty buffer', 'Generated actives', 'Enamine']\n",
    "for i in range(n):\n",
    "    tmp = pd.read_csv(log_path + '-%d.smi' % i, names=['smiles', 'predictions'])\n",
    "    tmp['molecules'] = tmp.smiles.apply(Chem.MolFromSmiles)\n",
    "    libs.append(tmp)\n",
    "mols = [lib.molecules for lib in libs]"
   ]
  },
  {
   "cell_type": "code",
   "execution_count": null,
   "id": "3db6ca89",
   "metadata": {},
   "outputs": [],
   "source": [
    "# load experimental library as a baseline\n",
    "egfr_actives = pd.read_csv('../data/egfr_actives.smi', names=['smiles', 'predictions'])\n",
    "egfr_actives['molecules'] = egfr_actives.smiles.apply(Chem.MolFromSmiles)\n",
    "egfr_actives = egfr_actives[egfr_actives.predictions > 0.75]"
   ]
  },
  {
   "cell_type": "code",
   "execution_count": null,
   "id": "b28658b0",
   "metadata": {},
   "outputs": [],
   "source": [
    "# calculate similarity distributions of libraries\n",
    "sims = {}\n",
    "sim = get_fingerprint_similarities(data, sample_size=1000)\n",
    "\n",
    "max_sim = [max(l) for l in sim]\n",
    "sims['Max Similarity'] = max_sim\n",
    "sims['Similarity'] = sim"
   ]
  },
  {
   "cell_type": "code",
   "execution_count": null,
   "id": "6eca09c5",
   "metadata": {},
   "outputs": [],
   "source": [
    "t = np.arange(n)\n",
    "cmap = plt.get_cmap('brg', n)\n",
    "colors = cmap(t)\n",
    "fig, axes = plt.subplots(2, 1, figsize=(6,6), sharex=True)\n",
    "axes = axes.flatten()\n",
    "for i, (prop, dist) in enumerate(sims.items()):\n",
    "    medians = np.array([np.median(d) for d in dist])\n",
    "    q1s = np.array([np.percentile(d, 25) for d in dist])\n",
    "    q3s = np.array([np.percentile(d, 75) for d in dist])\n",
    "    plt.sca(axes[i])\n",
    "    violinplot(dist, c=t, cmap='brg',\n",
    "               positions=t, widths=1, bw_method=0.3)\n",
    "    for j in range(n):\n",
    "        plt.plot(t[j], medians[j], 'o', c=colors[j])\n",
    "        plt.plot([t[j], t[j]], [q1s[j], q3s[j]], c=colors[j], lw=2.5)\n",
    "    plt.ylabel('Similarity')\n",
    "    plt.title('Distribution of %s' % prop)\n",
    "plt.xticks(t)\n",
    "plt.gca().set_xticklabels(['Experimental actives',\n",
    "                           'Empty buffer',\n",
    "                           'Generated actives',\n",
    "                           'Enamine'])\n",
    "plt.show()"
   ]
  },
  {
   "cell_type": "markdown",
   "id": "a9b34f05",
   "metadata": {},
   "source": [
    "# Display sample scaffolds of various runs"
   ]
  },
  {
   "cell_type": "code",
   "execution_count": null,
   "id": "22b19dcc",
   "metadata": {},
   "outputs": [],
   "source": [
    "name = 'replay_data201104'\n",
    "\n",
    "log_path = path + name\n",
    "n_runs = len(glob(log_path + '*.smi'))\n",
    "n = n_runs - 1\n",
    "conditions = ['empty buffer', 'generated actives', 'enamine']"
   ]
  },
  {
   "cell_type": "code",
   "execution_count": null,
   "id": "98118d2c",
   "metadata": {},
   "outputs": [],
   "source": [
    "n_cols = 4\n",
    "n_cols = min(n_cols, n)\n",
    "n_rows = (n-1) // n_cols + 1\n",
    "n_to_show = 12\n",
    "\n",
    "fig, axes = plt.subplots(1, 3, dpi=300)\n",
    "axes = axes.flatten()\n",
    "libs = []\n",
    "for i in range(n_runs - 1):\n",
    "    lib_path = log_path + '-%d.smi' % (i+1)\n",
    "    mol_data = pd.read_csv(lib_path, names=['smiles', 'predictions'])\n",
    "    mol_data = mol_data[mol_data.predictions > 0.75]\n",
    "    mol_data['molecules'] = mol_data.smiles.apply(Chem.MolFromSmiles)\n",
    "    libs.append(mol_data['molecules'])\n",
    "for i in range(len(libs)):\n",
    "    plot_scaffolds(libs[i], ax=axes[i], subImgSize=(1000,1000), useSVG=True)\n",
    "    axes[i].set_title(conditions[i])\n",
    "    axes[i].axis('off')\n",
    "plt.show()"
   ]
  }
 ],
 "metadata": {
  "kernelspec": {
   "display_name": "Python 3 (ipykernel)",
   "language": "python",
   "name": "python3"
  },
  "language_info": {
   "codemirror_mode": {
    "name": "ipython",
    "version": 3
   },
   "file_extension": ".py",
   "mimetype": "text/x-python",
   "name": "python",
   "nbconvert_exporter": "python",
   "pygments_lexer": "ipython3",
   "version": "3.8.10"
  }
 },
 "nbformat": 4,
 "nbformat_minor": 5
}

{
 "cells": [
  {
   "cell_type": "code",
   "execution_count": null,
   "id": "3fa1ed46",
   "metadata": {},
   "outputs": [],
   "source": [
    "import os\n",
    "os.environ['CUDA_VISIBLE_DEVICES'] = '1'\n",
    "import sys\n",
    "sys.path.append('../release')"
   ]
  },
  {
   "cell_type": "code",
   "execution_count": null,
   "id": "105d79bb",
   "metadata": {},
   "outputs": [],
   "source": [
    "import numpy as np\n",
    "import pandas as pd\n",
    "from tqdm import trange\n",
    "import torch\n",
    "use_cuda = torch.cuda.is_available()"
   ]
  },
  {
   "cell_type": "code",
   "execution_count": null,
   "id": "c6555db4",
   "metadata": {},
   "outputs": [],
   "source": [
    "from data import GeneratorData, PredictorData\n",
    "from stackRNN import StackAugmentedRNN\n",
    "from utils import get_fp\n",
    "from reinforcement import Reinforcement"
   ]
  },
  {
   "cell_type": "code",
   "execution_count": null,
   "id": "7a537893",
   "metadata": {},
   "outputs": [],
   "source": [
    "from sklearn.ensemble import RandomForestClassifier as RFC\n",
    "from predictor import VanillaQSAR"
   ]
  },
  {
   "cell_type": "markdown",
   "id": "50ef9271",
   "metadata": {},
   "source": [
    "# Training the predictor"
   ]
  },
  {
   "cell_type": "code",
   "execution_count": null,
   "id": "413f20d9",
   "metadata": {},
   "outputs": [],
   "source": [
    "np.random.seed(42)\n",
    "\n",
    "pred_data = PredictorData('../data/egfr_with_pubchem.csv', get_features=get_fp)\n",
    "model_instance = RFC\n",
    "model_params = {'n_estimators': 250,\n",
    "                'n_jobs': 10}\n",
    "my_predictor = VanillaQSAR(model_instance=model_instance,\n",
    "                           model_params=model_params,\n",
    "                           ensemble_size=10)"
   ]
  },
  {
   "cell_type": "code",
   "execution_count": null,
   "id": "ef78f406",
   "metadata": {},
   "outputs": [],
   "source": [
    "# uncomment to train predictor model...\n",
    "# my_predictor.fit_model(pred_data, cv_split='random')\n",
    "# my_predictor.save_model('../project/checkpoints/predictor/egfr_rfc')"
   ]
  },
  {
   "cell_type": "code",
   "execution_count": null,
   "id": "a635078d",
   "metadata": {},
   "outputs": [],
   "source": [
    "# ...or use pretrained model\n",
    "my_predictor.load_model('../checkpoints/predictor/egfr_rfc')"
   ]
  },
  {
   "cell_type": "markdown",
   "id": "000c46f1",
   "metadata": {},
   "source": [
    "# Pre-train the generative model"
   ]
  },
  {
   "cell_type": "code",
   "execution_count": null,
   "id": "07db388e",
   "metadata": {},
   "outputs": [],
   "source": [
    "np.random.seed(42)\n",
    "torch.manual_seed(42)"
   ]
  },
  {
   "cell_type": "code",
   "execution_count": null,
   "id": "bb6177bb",
   "metadata": {},
   "outputs": [],
   "source": [
    "tokens = [' ', '<', '>', '#', '%', ')', '(', '+', '-', '/', '.', '1', '0', '3', '2', '5', '4', '7',\n",
    "          '6', '9', '8', '=', 'A', '@', 'C', 'B', 'F', 'I', 'H', 'O', 'N', 'P', 'S', '[', ']',\n",
    "          '\\\\', 'c', 'e', 'i', 'l', 'o', 'n', 'p', 's', 'r']\n",
    "gen_data_path = '../data/chembl_22_clean_1576904_sorted_std_final.smi'\n",
    "gen_data = GeneratorData(training_data_path=gen_data_path, delimiter='\\t',\n",
    "                         cols_to_read=[0], keep_header=True, tokens=tokens)"
   ]
  },
  {
   "cell_type": "code",
   "execution_count": null,
   "id": "fe2b1066",
   "metadata": {},
   "outputs": [],
   "source": [
    "hidden_size = 1500\n",
    "stack_width = 1500\n",
    "stack_depth = 200\n",
    "layer_type = 'GRU'\n",
    "lr = 0.0002\n",
    "optimizer = torch.optim.Adadelta\n",
    "\n",
    "my_generator = StackAugmentedRNN(input_size=gen_data.n_characters, hidden_size=hidden_size,\n",
    "                                     output_size=gen_data.n_characters,\n",
    "                                     layer_type=layer_type, n_layers=1, is_bidirectional=False,\n",
    "                                     has_stack=True, stack_width=stack_width, stack_depth=stack_depth,\n",
    "                                     use_cuda=use_cuda,\n",
    "                                     lr=lr, optimizer_instance=optimizer)"
   ]
  },
  {
   "cell_type": "code",
   "execution_count": null,
   "id": "1e78d746",
   "metadata": {},
   "outputs": [],
   "source": [
    "model_path = '../checkpoints/generator/checkpoint_biggest_rnn1'\n",
    "batch_size = 16\n",
    "n_iterations = 1500000\n",
    "\n",
    "# uncomment to pretrain generator...\n",
    "# losses = my_generator.fit(gen_data, batch_size, n_iterations)\n",
    "# my_generator.save_model(model_path)\n",
    "# with open('losses.txt','wt') as f:\n",
    "#     for val in losses:\n",
    "#         print(val, file=f)"
   ]
  },
  {
   "cell_type": "code",
   "execution_count": null,
   "id": "07943cc4",
   "metadata": {},
   "outputs": [],
   "source": [
    "# ... or load pre-trained model\n",
    "my_generator.load(model_path)"
   ]
  },
  {
   "cell_type": "markdown",
   "id": "853a5813",
   "metadata": {},
   "source": [
    "# Fine-tune generative model on molecules with predicted activity against EGFR"
   ]
  },
  {
   "cell_type": "code",
   "execution_count": null,
   "id": "5713f280",
   "metadata": {},
   "outputs": [],
   "source": [
    "def get_reward_max(smiles, predictor, threshold, invalid_reward=1.0, get_features=get_fp):\n",
    "    mol, prop, nan_smiles = predictor.predict([smiles], get_features=get_features)\n",
    "    if len(nan_smiles) == 1:\n",
    "        return invalid_reward\n",
    "    if prop[0] >= threshold:\n",
    "        return 10.0\n",
    "    else:\n",
    "        return invalid_reward"
   ]
  },
  {
   "cell_type": "code",
   "execution_count": null,
   "id": "91988177",
   "metadata": {},
   "outputs": [],
   "source": [
    "RL_max = Reinforcement(my_generator, my_predictor, get_reward_max)"
   ]
  },
  {
   "cell_type": "code",
   "execution_count": null,
   "id": "754c46f4",
   "metadata": {},
   "outputs": [],
   "source": [
    "data_path = ['../data/egfr_actives.smi',\n",
    "             '../data/egfr_enamine.smi',\n",
    "             '../data/egfr_mixed.smi']\n",
    "save_path = ['../checkpoints/generator/egfr_clf_rnn_primed',\n",
    "             '../checkpoints/generator/egfr_clf_rnn_enamine_primed',\n",
    "             '../checkpoints/generator/egfr_clf_rnn_mixed_primed']\n",
    "n_iterations = 250\n",
    "\n",
    "for dpath, mpath in zip(data_path, save_path):\n",
    "    print('Pretraining on %s' % dpath)\n",
    "    np.random.seed(42)\n",
    "    torch.manual_seed(42)\n",
    "    \n",
    "    actives_data = GeneratorData(dpath,\n",
    "                                 tokens=tokens,\n",
    "                                 cols_to_read=[0],\n",
    "                                 keep_header=True)\n",
    "    RL_max.generator.load_model(model_path)\n",
    "    for i in range(n_iterations):\n",
    "        print(i)\n",
    "        RL_max.fine_tune(data=actives_data, n_steps=n_iterations, batch_size=16)\n",
    "    RL_max.generator.save_model(mpath)"
   ]
  }
 ],
 "metadata": {
  "kernelspec": {
   "display_name": "Python 3 (ipykernel)",
   "language": "python",
   "name": "python3"
  },
  "language_info": {
   "codemirror_mode": {
    "name": "ipython",
    "version": 3
   },
   "file_extension": ".py",
   "mimetype": "text/x-python",
   "name": "python",
   "nbconvert_exporter": "python",
   "pygments_lexer": "ipython3",
   "version": "3.8.10"
  }
 },
 "nbformat": 4,
 "nbformat_minor": 5
}
